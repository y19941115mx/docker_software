{
 "cells": [
  {
   "cell_type": "markdown",
   "id": "91a38ebb-8fab-4dda-8285-36539ab9295a",
   "metadata": {},
   "source": [
    "## spark-sql 相关配置项"
   ]
  },
  {
   "cell_type": "markdown",
   "id": "a4e00bbc-d036-4185-a118-6d6060727bd0",
   "metadata": {},
   "source": [
    "## spark UI的使用"
   ]
  },
  {
   "cell_type": "code",
   "execution_count": null,
   "id": "c3374b88-fc04-4f6c-a42b-9e30a2be7791",
   "metadata": {},
   "outputs": [],
   "source": []
  }
 ],
 "metadata": {
  "kernelspec": {
   "display_name": "Python 3 (ipykernel)",
   "language": "python",
   "name": "python3"
  },
  "language_info": {
   "codemirror_mode": {
    "name": "ipython",
    "version": 3
   },
   "file_extension": ".py",
   "mimetype": "text/x-python",
   "name": "python",
   "nbconvert_exporter": "python",
   "pygments_lexer": "ipython3",
   "version": "3.11.4"
  }
 },
 "nbformat": 4,
 "nbformat_minor": 5
}
