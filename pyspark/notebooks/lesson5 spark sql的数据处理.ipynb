{
 "cells": [
  {
   "cell_type": "code",
   "execution_count": 1,
   "id": "db595b5f-0b19-46c1-b000-3dfa75cc1af4",
   "metadata": {},
   "outputs": [],
   "source": [
    "from pyspark.sql import SparkSession\n",
    "\n",
    "sc = SparkSession.builder \\\n",
    "    .appName(\"lesson5\") \\\n",
    "    .config(\"spark.driver.memory\", \"4g\") \\\n",
    "    .config(\"spark.executor.memory\", \"2g\") \\\n",
    "    .getOrCreate()"
   ]
  },
  {
   "cell_type": "markdown",
   "id": "6afd8850-4975-44b2-9efd-c168482f9175",
   "metadata": {},
   "source": [
    "## 1.  数据源与数据格式：DataFrame的创建"
   ]
  },
  {
   "cell_type": "markdown",
   "id": "74420607-b3de-4756-ac70-27b410e2c576",
   "metadata": {},
   "source": [
    "## 2. 数据转换：在DataFrame之上做数据处理"
   ]
  },
  {
   "cell_type": "markdown",
   "id": "38a1862d-9b08-49e2-9319-d7065bb24935",
   "metadata": {},
   "source": [
    "## 3. 数据关联：数据关联形式的选择"
   ]
  },
  {
   "cell_type": "markdown",
   "id": "f2c7de04-d788-49a1-9e4a-e0e871ffd858",
   "metadata": {},
   "source": [
    "## 补充：相关配置优化"
   ]
  },
  {
   "cell_type": "code",
   "execution_count": null,
   "id": "3041a9dd-391e-45bb-831c-7aac655feaa6",
   "metadata": {},
   "outputs": [],
   "source": []
  }
 ],
 "metadata": {
  "kernelspec": {
   "display_name": "Python 3 (ipykernel)",
   "language": "python",
   "name": "python3"
  },
  "language_info": {
   "codemirror_mode": {
    "name": "ipython",
    "version": 3
   },
   "file_extension": ".py",
   "mimetype": "text/x-python",
   "name": "python",
   "nbconvert_exporter": "python",
   "pygments_lexer": "ipython3",
   "version": "3.11.4"
  }
 },
 "nbformat": 4,
 "nbformat_minor": 5
}
