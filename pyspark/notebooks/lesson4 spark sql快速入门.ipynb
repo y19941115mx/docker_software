{
 "cells": [
  {
   "cell_type": "code",
   "execution_count": 1,
   "id": "f11e8907-c7cb-40d4-87fe-d4ee5f6912ca",
   "metadata": {},
   "outputs": [],
   "source": [
    "from pyspark.sql import SparkSession\n",
    "\n",
    "sc = SparkSession.builder \\\n",
    "    .appName(\"lesson4\") \\\n",
    "    .config(\"spark.driver.memory\", \"4g\") \\\n",
    "    .config(\"spark.executor.memory\", \"2g\") \\\n",
    "    .getOrCreate()"
   ]
  },
  {
   "cell_type": "markdown",
   "id": "096a6800-d9f0-4312-84d7-753decde75a7",
   "metadata": {},
   "source": [
    "## 使用spark sql 探索数据\n",
    "为了限制机动车保有量，从 2011 年开始，北京市政府推出了小汽车摇号政策。随着摇号进程的推进，在 2016 年，为了照顾那些长时间没有摇中号码牌的“准司机”，摇号政策又推出了“倍率”制度。\n",
    "\n",
    "所谓倍率制度，它指的是，结合参与摇号次数，为每个人赋予不同的倍率系数。有了倍率加持，大家的中签率就由原来整齐划一的基础概率，变为“基础概率 * 倍率系数”。参与摇号的次数越多，倍率系数越大，中签率也会相应得到提高\n",
    "\n",
    "这里使用spark-sql 探索倍率与中签率之间的关系"
   ]
  },
  {
   "cell_type": "markdown",
   "id": "bdd044c8-9d5b-4cf4-bdbd-0a6b2f750ef1",
   "metadata": {},
   "source": [
    "### 1. 数据探索"
   ]
  },
  {
   "cell_type": "code",
   "execution_count": 3,
   "id": "db2015ad-6fda-4790-8d82-090ccd1457b0",
   "metadata": {},
   "outputs": [
    {
     "name": "stdout",
     "output_type": "stream",
     "text": [
      "root\n",
      " |-- carNum: string (nullable = true)\n",
      " |-- batchNum: integer (nullable = true)\n",
      "\n"
     ]
    }
   ],
   "source": [
    "from pathlib import Path\n",
    "\n",
    "file_path = Path('../') / 'data' / 'carData'\n",
    "\n",
    "apply_path = file_path / 'apply'\n",
    "\n",
    "apply_df = sc.read.parquet(str(apply_path.absolute()))\n",
    "\n",
    "apply_df.printSchema()"
   ]
  },
  {
   "cell_type": "code",
   "execution_count": 6,
   "id": "77612a30-9a39-4daa-b044-a9288afbfdd5",
   "metadata": {},
   "outputs": [],
   "source": [
    "lucky_path = file_path / 'lucky'\n",
    "\n",
    "lucky_df = sc.read.parquet(str(lucky_path))"
   ]
  },
  {
   "cell_type": "code",
   "execution_count": 9,
   "id": "6ed34bc3-b9ff-46fd-bfcb-7e4b0f8794c0",
   "metadata": {},
   "outputs": [
    {
     "data": {
      "text/plain": [
       "45"
      ]
     },
     "execution_count": 9,
     "metadata": {},
     "output_type": "execute_result"
    }
   ],
   "source": [
    "apply_df.rdd.getNumPartitions()"
   ]
  },
  {
   "cell_type": "code",
   "execution_count": 10,
   "id": "a26f4625-38d2-4609-9d75-ed7e1732f87c",
   "metadata": {},
   "outputs": [
    {
     "data": {
      "text/plain": [
       "8"
      ]
     },
     "execution_count": 10,
     "metadata": {},
     "output_type": "execute_result"
    }
   ],
   "source": [
    "lucky_df.rdd.getNumPartitions()"
   ]
  },
  {
   "cell_type": "markdown",
   "id": "39c5db45-6eb5-44ee-93eb-1fbe609680e9",
   "metadata": {},
   "source": [
    "### 2. 需求实现\n",
    "\n",
    "既然是要量化中签率与倍率之间的关系，我们只需要关注那些中签者（lucky 目录下的数据）的倍率变化就好了。而倍率的计算，要依赖 apply 目录下的摇号数据。因此，要做到仅关注中签者的倍率，我们就必须要使用数据关联这个在数据分析领域中最常见的操作。此外，由于倍率制度自 2016 年才开始推出，所以我们只需要访问 2016 年以后的数据即可\n"
   ]
  },
  {
   "cell_type": "code",
   "execution_count": null,
   "id": "ee5d0a0a-d9c9-4131-a04b-76548d9a67d1",
   "metadata": {},
   "outputs": [],
   "source": [
    "filter_lucky_df = lucky_df.filter(lucky_df.batchNum >= \"201601\").select(\"carNum\")\n",
    "join_df = filter_lucky_df.join(apply_df, \"carNum\")"
   ]
  },
  {
   "cell_type": "markdown",
   "id": "ae23855a-d498-4e7f-8f01-d66c050aeba2",
   "metadata": {},
   "source": [
    "倍率的计算，根据对数据的观察可以得出，根据每个批次和账号进行分词，出现的次数即为对应账号的抽取倍率"
   ]
  },
  {
   "cell_type": "code",
   "execution_count": null,
   "id": "5d8fa091-6ce7-4c1d-bbf4-186c183d22e8",
   "metadata": {},
   "outputs": [],
   "source": [
    "from pyspark.sql.functions import lit,count, max"
   ]
  },
  {
   "cell_type": "code",
   "execution_count": null,
   "id": "3c009185-ae5c-4255-9791-6ad40fe142b7",
   "metadata": {},
   "outputs": [],
   "source": [
    "multipliers = join_df.groupby([\"carNum\", \"batchNum\"]).agg(count(lit(1)).alias(\"multiplier\"))"
   ]
  },
  {
   "cell_type": "markdown",
   "id": "69188233-d5af-489f-a34b-6ac52ea5536d",
   "metadata": {},
   "source": [
    "最终倍率的计算，我们只需要按照每个账号批次的最大值即可"
   ]
  },
  {
   "cell_type": "code",
   "execution_count": null,
   "id": "17ce12eb-1f69-4738-8df8-621ea061b3f7",
   "metadata": {},
   "outputs": [],
   "source": [
    "uniqueMultipliers = multipliers.groupby(\"carNum\").agg(max(\"multiplier\").alias(\"multiplier\"))"
   ]
  },
  {
   "cell_type": "markdown",
   "id": "c5843a7f-761f-4156-b227-b1620a35ca33",
   "metadata": {},
   "source": [
    "按照multiplier分组 统计各个倍率下的中标人数"
   ]
  },
  {
   "cell_type": "code",
   "execution_count": 26,
   "id": "ebf1c41b-f133-4fcd-9da8-b5f4b8658e75",
   "metadata": {},
   "outputs": [],
   "source": [
    "result = uniqueMultipliers.groupby(\"multiplier\").count().sort(\"multiplier\")"
   ]
  },
  {
   "cell_type": "code",
   "execution_count": 12,
   "id": "bea961a2-21a8-4c96-b469-d3659cfa0337",
   "metadata": {},
   "outputs": [],
   "source": [
    "df = result.toPandas()"
   ]
  },
  {
   "cell_type": "code",
   "execution_count": 15,
   "id": "2f0085f8-9da4-4192-b47a-4daad56cef9d",
   "metadata": {},
   "outputs": [
    {
     "data": {
      "image/png": "[encoded data removed]",
      "text/plain": [
       "<Figure size 640x480 with 1 Axes>"
      ]
     },
     "metadata": {},
     "output_type": "display_data"
    }
   ],
   "source": [
    "import matplotlib.pyplot as plt\n",
    "\n",
    "df.plot(x=\"multiplier\", y=\"count\", kind=\"bar\")\n",
    "plt.show()"
   ]
  },
  {
   "cell_type": "markdown",
   "id": "5b977bc8-02f7-4155-8196-faf5c3507de6",
   "metadata": {},
   "source": [
    "### 一言以蔽之\n",
    "\n",
    "spark sql使用更具体与语义化的算子，降低了编程的表达能力，但是利用算子具体的语义化信息，spark sql 可以优化我们的执行计划，提高执行的效率\n",
    "\n",
    "spark-sql的底层还是spark-core，牺牲了rdd的灵活性换取更高的运行效率"
   ]
  }
 ],
 "metadata": {
  "kernelspec": {
   "display_name": "Python 3 (ipykernel)",
   "language": "python",
   "name": "python3"
  },
  "language_info": {
   "codemirror_mode": {
    "name": "ipython",
    "version": 3
   },
   "file_extension": ".py",
   "mimetype": "text/x-python",
   "name": "python",
   "nbconvert_exporter": "python",
   "pygments_lexer": "ipython3",
   "version": "3.11.4"
  }
 },
 "nbformat": 4,
 "nbformat_minor": 5
}
