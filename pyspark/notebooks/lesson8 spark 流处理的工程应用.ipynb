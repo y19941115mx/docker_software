{
 "cells": [
  {
   "cell_type": "markdown",
   "id": "1bb019b1-44c5-4b77-be35-2c1a02ee6737",
   "metadata": {},
   "source": [
    "## Spark + Kafka：流计算中的“万金油”"
   ]
  },
  {
   "cell_type": "code",
   "execution_count": null,
   "id": "78e91b10-ef9a-4cd6-97fb-6ab833a82364",
   "metadata": {},
   "outputs": [],
   "source": []
  }
 ],
 "metadata": {
  "kernelspec": {
   "display_name": "Python 3 (ipykernel)",
   "language": "python",
   "name": "python3"
  },
  "language_info": {
   "codemirror_mode": {
    "name": "ipython",
    "version": 3
   },
   "file_extension": ".py",
   "mimetype": "text/x-python",
   "name": "python",
   "nbconvert_exporter": "python",
   "pygments_lexer": "ipython3",
   "version": "3.11.4"
  }
 },
 "nbformat": 4,
 "nbformat_minor": 5
}
