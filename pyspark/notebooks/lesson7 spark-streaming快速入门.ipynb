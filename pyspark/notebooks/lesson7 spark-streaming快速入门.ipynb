{
 "cells": [
  {
   "cell_type": "markdown",
   "id": "3498e8b8-2977-46b7-899e-b0a9410cf3b7",
   "metadata": {},
   "source": [
    "## 从“流动的Word Count”开始"
   ]
  },
  {
   "cell_type": "code",
   "execution_count": null,
   "id": "e34dda1f-2bc5-4862-b2d2-bf8f52292ccf",
   "metadata": {},
   "outputs": [],
   "source": []
  }
 ],
 "metadata": {
  "kernelspec": {
   "display_name": "Python 3 (ipykernel)",
   "language": "python",
   "name": "python3"
  },
  "language_info": {
   "codemirror_mode": {
    "name": "ipython",
    "version": 3
   },
   "file_extension": ".py",
   "mimetype": "text/x-python",
   "name": "python",
   "nbconvert_exporter": "python",
   "pygments_lexer": "ipython3",
   "version": "3.11.4"
  }
 },
 "nbformat": 4,
 "nbformat_minor": 5
}
