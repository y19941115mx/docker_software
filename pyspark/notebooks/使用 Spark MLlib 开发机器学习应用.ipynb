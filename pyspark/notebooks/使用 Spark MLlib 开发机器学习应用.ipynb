{
 "cells": [
  {
   "cell_type": "markdown",
   "id": "9905efb3-b4d7-4947-8c37-5eaa5fe6c535",
   "metadata": {},
   "source": [
    "## Spark MLlib Pipeline"
   ]
  },
  {
   "cell_type": "code",
   "execution_count": null,
   "id": "6fe3fe61-ebfc-4993-8f4a-396b9a9399f8",
   "metadata": {},
   "outputs": [],
   "source": []
  }
 ],
 "metadata": {
  "kernelspec": {
   "display_name": "Python 3 (ipykernel)",
   "language": "python",
   "name": "python3"
  },
  "language_info": {
   "codemirror_mode": {
    "name": "ipython",
    "version": 3
   },
   "file_extension": ".py",
   "mimetype": "text/x-python",
   "name": "python",
   "nbconvert_exporter": "python",
   "pygments_lexer": "ipython3",
   "version": "3.11.4"
  }
 },
 "nbformat": 4,
 "nbformat_minor": 5
}
