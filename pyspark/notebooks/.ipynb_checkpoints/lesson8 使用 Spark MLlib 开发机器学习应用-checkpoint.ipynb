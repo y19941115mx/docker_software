{
 "cells": [
  {
   "cell_type": "markdown",
   "id": "9905efb3-b4d7-4947-8c37-5eaa5fe6c535",
   "metadata": {},
   "source": [
    "## Spark MLlib Pipeline"
   ]
  },
  {
   "cell_type": "code",
   "execution_count": 2,
   "id": "6fe3fe61-ebfc-4993-8f4a-396b9a9399f8",
   "metadata": {},
   "outputs": [],
   "source": [
    "from pyspark.sql import SparkSession\n",
    "\n",
    "spark = SparkSession.builder \\\n",
    "    .appName(\"hive\") \\\n",
    "    .config(\"spark.driver.memory\", \"4g\") \\\n",
    "    .config(\"spark.executor.memory\", \"2g\") \\\n",
    "    .config(\"hive.metastore.uris\", r\"thrift://hive-metastore:9083\") \\\n",
    "    .enableHiveSupport() \\\n",
    "    .getOrCreate()"
   ]
  },
  {
   "cell_type": "code",
   "execution_count": 6,
   "id": "8d2abe21-388f-4b66-a8c6-62b767ef338b",
   "metadata": {},
   "outputs": [],
   "source": [
    "df = spark.sql(\"select * from my_table\")"
   ]
  },
  {
   "cell_type": "code",
   "execution_count": 8,
   "id": "24457b32-9175-4285-ac99-30a9a7a62c6e",
   "metadata": {},
   "outputs": [
    {
     "name": "stdout",
     "output_type": "stream",
     "text": [
      "+----+------+\n",
      "|  id|salary|\n",
      "+----+------+\n",
      "|null|  null|\n",
      "|   1| 56234|\n",
      "|   2| 78945|\n",
      "|   3| 65432|\n",
      "|   4| 71234|\n",
      "|   5| 82000|\n",
      "|   6| 58790|\n",
      "|   7| 76345|\n",
      "|   8| 69874|\n",
      "|   9| 84739|\n",
      "|  10| 61532|\n",
      "|  11| 75298|\n",
      "|  12| 68923|\n",
      "|  13| 80345|\n",
      "|  14| 72168|\n",
      "|  15| 83560|\n",
      "|  16| 64289|\n",
      "|  17| 72653|\n",
      "|  18| 79324|\n",
      "|  19| 71009|\n",
      "+----+------+\n",
      "only showing top 20 rows\n",
      "\n"
     ]
    }
   ],
   "source": [
    "df.show()"
   ]
  },
  {
   "cell_type": "code",
   "execution_count": 9,
   "id": "07644ead-0f69-4c0e-a293-93e37d8661a8",
   "metadata": {},
   "outputs": [
    {
     "data": {
      "text/html": [
       "\n",
       "            <div>\n",
       "                <p><b>SparkSession - hive</b></p>\n",
       "                \n",
       "        <div>\n",
       "            <p><b>SparkContext</b></p>\n",
       "\n",
       "            <p><a href=\"http://3295a01b3898:4040\">Spark UI</a></p>\n",
       "\n",
       "            <dl>\n",
       "              <dt>Version</dt>\n",
       "                <dd><code>v3.4.0</code></dd>\n",
       "              <dt>Master</dt>\n",
       "                <dd><code>local[*]</code></dd>\n",
       "              <dt>AppName</dt>\n",
       "                <dd><code>hive</code></dd>\n",
       "            </dl>\n",
       "        </div>\n",
       "        \n",
       "            </div>\n",
       "        "
      ],
      "text/plain": [
       "<pyspark.sql.session.SparkSession at 0x7f611419ce50>"
      ]
     },
     "execution_count": 9,
     "metadata": {},
     "output_type": "execute_result"
    }
   ],
   "source": [
    "spark"
   ]
  },
  {
   "cell_type": "code",
   "execution_count": null,
   "id": "37668de0-35a9-4a17-8ed0-4d550099e5c5",
   "metadata": {},
   "outputs": [],
   "source": []
  }
 ],
 "metadata": {
  "kernelspec": {
   "display_name": "Python 3 (ipykernel)",
   "language": "python",
   "name": "python3"
  },
  "language_info": {
   "codemirror_mode": {
    "name": "ipython",
    "version": 3
   },
   "file_extension": ".py",
   "mimetype": "text/x-python",
   "name": "python",
   "nbconvert_exporter": "python",
   "pygments_lexer": "ipython3",
   "version": "3.11.4"
  }
 },
 "nbformat": 4,
 "nbformat_minor": 5
}
