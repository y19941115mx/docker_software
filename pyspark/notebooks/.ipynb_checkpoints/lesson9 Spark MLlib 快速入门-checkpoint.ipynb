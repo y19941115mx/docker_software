{
 "cells": [
  {
   "cell_type": "markdown",
   "id": "731f899f-8c10-4c86-8f34-fd2b7be578e7",
   "metadata": {},
   "source": [
    "## 房价预测案例"
   ]
  },
  {
   "cell_type": "markdown",
   "id": "88364b22-266f-471b-9ed3-8f6dd10030b4",
   "metadata": {},
   "source": [
    "## 1. 特征工程"
   ]
  },
  {
   "cell_type": "markdown",
   "id": "8158dd84-d902-4f67-a84a-5e6c7ab84f8d",
   "metadata": {},
   "source": [
    "## 2. 模型训练"
   ]
  },
  {
   "cell_type": "code",
   "execution_count": null,
   "id": "8498ae58-2292-499d-9fa8-4c623618272f",
   "metadata": {},
   "outputs": [],
   "source": []
  }
 ],
 "metadata": {
  "kernelspec": {
   "display_name": "Python 3 (ipykernel)",
   "language": "python",
   "name": "python3"
  },
  "language_info": {
   "codemirror_mode": {
    "name": "ipython",
    "version": 3
   },
   "file_extension": ".py",
   "mimetype": "text/x-python",
   "name": "python",
   "nbconvert_exporter": "python",
   "pygments_lexer": "ipython3",
   "version": "3.11.4"
  }
 },
 "nbformat": 4,
 "nbformat_minor": 5
}
