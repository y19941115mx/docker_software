{
 "cells": [
  {
   "cell_type": "code",
   "execution_count": 1,
   "id": "d92bd046-9328-4a83-85c6-d4ffdc20b36b",
   "metadata": {},
   "outputs": [],
   "source": [
    "from pyspark.sql import SparkSession\n",
    "\n",
    "sc = SparkSession.builder \\\n",
    "    .appName(\"lesson6\") \\\n",
    "    .config(\"spark.driver.memory\", \"4g\") \\\n",
    "    .config(\"spark.executor.memory\", \"2g\") \\\n",
    "    .getOrCreate()"
   ]
  },
  {
   "cell_type": "markdown",
   "id": "3416907a-a2bb-4460-bb44-5de303075349",
   "metadata": {},
   "source": [
    "## 使用Hive + Spark 构建数字仓库"
   ]
  },
  {
   "cell_type": "markdown",
   "id": "65305746-72fb-402a-b469-13084cf41928",
   "metadata": {},
   "source": [
    "## 使用Spark UI 定位性能问题"
   ]
  },
  {
   "cell_type": "code",
   "execution_count": null,
   "id": "97432b6a-0b06-4fdd-8bc2-2eddf6f6bb42",
   "metadata": {},
   "outputs": [],
   "source": []
  }
 ],
 "metadata": {
  "kernelspec": {
   "display_name": "Python 3 (ipykernel)",
   "language": "python",
   "name": "python3"
  },
  "language_info": {
   "codemirror_mode": {
    "name": "ipython",
    "version": 3
   },
   "file_extension": ".py",
   "mimetype": "text/x-python",
   "name": "python",
   "nbconvert_exporter": "python",
   "pygments_lexer": "ipython3",
   "version": "3.11.4"
  }
 },
 "nbformat": 4,
 "nbformat_minor": 5
}
