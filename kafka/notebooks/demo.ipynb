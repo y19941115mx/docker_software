{
 "cells": [
  {
   "cell_type": "code",
   "execution_count": 2,
   "id": "8533b73c-d3d3-44f1-b00a-66d995011f1c",
   "metadata": {},
   "outputs": [
    {
     "data": {
      "text/plain": [
       "<kafka.producer.future.FutureRecordMetadata at 0x7fc0ec095a90>"
      ]
     },
     "execution_count": 2,
     "metadata": {},
     "output_type": "execute_result"
    }
   ],
   "source": [
    "from kafka import KafkaProducer, KafkaConsumer\n",
    "import json\n",
    "\n",
    "# 生产者示例\n",
    "producer = KafkaProducer(bootstrap_servers=['kafka1:9092'],\n",
    "                         value_serializer=lambda x: json.dumps(x).encode('utf-8'))\n",
    "\n",
    "producer.send('test_topic', {'key': 'value'})"
   ]
  },
  {
   "cell_type": "code",
   "execution_count": null,
   "id": "087bdb3e-8e56-42c7-b208-ad4766d64e2d",
   "metadata": {},
   "outputs": [
    {
     "name": "stdout",
     "output_type": "stream",
     "text": [
      "{'key': 'value'}\n",
      "{'key': 'value'}\n",
      "{'key': 'value'}\n"
     ]
    }
   ],
   "source": [
    "# 消费者示例\n",
    "consumer = KafkaConsumer('test_topic', bootstrap_servers=['kafka1:9092'], group_id=\"test2\",\n",
    "                         auto_offset_reset='earliest',\n",
    "                         value_deserializer=lambda x: json.loads(x.decode('utf-8')))\n",
    "\n",
    "for message in consumer:\n",
    "    print(message.value)"
   ]
  },
  {
   "cell_type": "code",
   "execution_count": null,
   "id": "c1c68299-957c-443c-b94a-d0616bb3fba2",
   "metadata": {},
   "outputs": [],
   "source": []
  }
 ],
 "metadata": {
  "kernelspec": {
   "display_name": "Python 3 (ipykernel)",
   "language": "python",
   "name": "python3"
  },
  "language_info": {
   "codemirror_mode": {
    "name": "ipython",
    "version": 3
   },
   "file_extension": ".py",
   "mimetype": "text/x-python",
   "name": "python",
   "nbconvert_exporter": "python",
   "pygments_lexer": "ipython3",
   "version": "3.11.4"
  }
 },
 "nbformat": 4,
 "nbformat_minor": 5
}
