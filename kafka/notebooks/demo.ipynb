{
 "cells": [
  {
   "cell_type": "code",
   "execution_count": 3,
   "id": "94f22f89-e016-42dc-9749-ef5e98463935",
   "metadata": {},
   "outputs": [],
   "source": [
    "from kafka import KafkaProducer, KafkaConsumer\n",
    "from kafka.errors import kafka_errors\n",
    "import traceback\n",
    "import json\n",
    "\n",
    "\n",
    "def producer_demo():\n",
    "    # 假设生产的消息为键值对（不是一定要键值对），且序列化方式为json\n",
    "    producer = KafkaProducer(\n",
    "        bootstrap_servers=['kafka:9092'], \n",
    "        key_serializer=lambda k: json.dumps(k).encode(),\n",
    "        value_serializer=lambda v: json.dumps(v).encode())\n",
    "    # 发送三条消息\n",
    "    for i in range(0, 3):\n",
    "        future = producer.send(\n",
    "            'kafka_demo',\n",
    "            key='count_num',  # 同一个key值，会被送至同一个分区\n",
    "            value=str(i),\n",
    "            partition=1)  # 向分区1发送消息\n",
    "        print(\"send {}\".format(str(i)))\n",
    "        try:\n",
    "            future.get(timeout=10) # 监控是否发送成功           \n",
    "        except kafka_errors:  # 发送失败抛出kafka_errors\n",
    "            traceback.format_exc()\n",
    "\n",
    "\n",
    "def consumer_demo():\n",
    "    consumer = KafkaConsumer(\n",
    "        'kafka_demo', \n",
    "        bootstrap_servers='kafka:9092',\n",
    "        group_id='test'\n",
    "    )\n",
    "    for message in consumer:\n",
    "        print(\"receive, key: {}, value: {}\".format(\n",
    "            json.loads(message.key.decode()),\n",
    "            json.loads(message.value.decode())\n",
    "            )\n",
    "        )"
   ]
  },
  {
   "cell_type": "code",
   "execution_count": null,
   "id": "7a4cff28-a1ee-46e7-aee5-562cbb891d6a",
   "metadata": {},
   "outputs": [
    {
     "name": "stdout",
     "output_type": "stream",
     "text": [
      "send 0\n",
      "send 1\n",
      "send 2\n",
      "receive, key: count_num, value: 0\n",
      "receive, key: count_num, value: 1\n",
      "receive, key: count_num, value: 2\n"
     ]
    }
   ],
   "source": [
    "import multiprocessing\n",
    "\n",
    "p1 = multiprocessing.Process(target=consumer_demo)\n",
    "p2 = multiprocessing.Process(target=producer_demo)\n",
    "\n",
    "# 启动两个进程\n",
    "p1.start()\n",
    "p2.start()\n",
    "\n",
    "# 等待两个进程完成\n",
    "p1.join()\n",
    "p2.join()"
   ]
  },
  {
   "cell_type": "code",
   "execution_count": null,
   "id": "e8708bb2-6015-4b41-90a4-2d8a28cc3d53",
   "metadata": {},
   "outputs": [],
   "source": []
  }
 ],
 "metadata": {
  "kernelspec": {
   "display_name": "Python 3 (ipykernel)",
   "language": "python",
   "name": "python3"
  },
  "language_info": {
   "codemirror_mode": {
    "name": "ipython",
    "version": 3
   },
   "file_extension": ".py",
   "mimetype": "text/x-python",
   "name": "python",
   "nbconvert_exporter": "python",
   "pygments_lexer": "ipython3",
   "version": "3.11.4"
  }
 },
 "nbformat": 4,
 "nbformat_minor": 5
}
